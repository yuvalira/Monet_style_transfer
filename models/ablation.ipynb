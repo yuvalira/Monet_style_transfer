{
 "cells": [
  {
   "cell_type": "markdown",
   "metadata": {
    "papermill": {
     "duration": 0.013215,
     "end_time": "2020-08-29T08:27:01.892915",
     "exception": false,
     "start_time": "2020-08-29T08:27:01.879700",
     "status": "completed"
    },
    "tags": []
   },
   "source": [
    "# Setup & Imports"
   ]
  },
  {
   "cell_type": "code",
   "execution_count": 1,
   "metadata": {
    "_cell_guid": "79c7e3d0-c299-4dcb-8224-4455121ee9b0",
    "_uuid": "d629ff2d2480ee46fbb7e2d37f6b5fab8052498a",
    "execution": {
     "iopub.execute_input": "2020-08-29T08:27:01.928826Z",
     "iopub.status.busy": "2020-08-29T08:27:01.927851Z",
     "iopub.status.idle": "2020-08-29T08:27:12.529547Z",
     "shell.execute_reply": "2020-08-29T08:27:12.528851Z"
    },
    "papermill": {
     "duration": 10.623182,
     "end_time": "2020-08-29T08:27:12.529697",
     "exception": false,
     "start_time": "2020-08-29T08:27:01.906515",
     "status": "completed"
    },
    "tags": []
   },
   "outputs": [
    {
     "name": "stdout",
     "output_type": "stream",
     "text": [
      "Number of replicas: 1\n",
      "2.6.2\n"
     ]
    },
    {
     "name": "stderr",
     "output_type": "stream",
     "text": [
      "UserWarning: \n",
      "\n",
      "TensorFlow Addons (TFA) has ended development and introduction of new features.\n",
      "TFA has entered a minimal maintenance and release mode until a planned end of life in May 2024.\n",
      "Please modify downstream libraries to take dependencies from other repositories in our TensorFlow community (e.g. Keras, Keras-CV, and Keras-NLP). \n",
      "\n",
      "For more information see: https://github.com/tensorflow/addons/issues/2807 \n",
      "\n",
      "  warnings.warn(\n",
      "UserWarning: Tensorflow Addons supports using Python ops for all Tensorflow versions above or equal to 2.13.0 and strictly below 2.16.0 (nightly versions are not supported). \n",
      " The versions of TensorFlow you are currently using is 2.6.2 and is not supported. \n",
      "Some things might work, some things might not.\n",
      "If you were to encounter a bug, do not file an issue.\n",
      "If you want to make sure you're using a tested and supported configuration, either change the TensorFlow version or the TensorFlow Addons's version. \n",
      "You can find the compatibility matrix in TensorFlow Addon's readme:\n",
      "https://github.com/tensorflow/addons\n",
      "  warnings.warn(\n"
     ]
    }
   ],
   "source": [
    "# ===== Standard Library =====\n",
    "import os\n",
    "import random\n",
    "import csv\n",
    "from pathlib import Path\n",
    "\n",
    "# ===== Math & Data =====\n",
    "import numpy as np\n",
    "\n",
    "# ===== Visualization =====\n",
    "import matplotlib.pyplot as plt\n",
    "from PIL import Image\n",
    "\n",
    "# ===== TensorFlow & Addons =====\n",
    "import tensorflow as tf\n",
    "from tensorflow import keras\n",
    "from tensorflow.keras import layers\n",
    "import tensorflow_addons as tfa\n",
    "\n",
    "# ===== Custom Modules =====\n",
    "import MiFID as mf\n",
    "\n",
    "# ===== TPU / Strategy Setup =====\n",
    "try:\n",
    "    tpu = tf.distribute.cluster_resolver.TPUClusterResolver()\n",
    "    print('Device:', tpu.master())\n",
    "    tf.config.experimental_connect_to_cluster(tpu)\n",
    "    tf.tpu.experimental.initialize_tpu_system(tpu)\n",
    "    strategy = tf.distribute.experimental.TPUStrategy(tpu)\n",
    "except:\n",
    "    strategy = tf.distribute.get_strategy()\n",
    "\n",
    "print('Number of replicas:', strategy.num_replicas_in_sync)\n",
    "\n",
    "# ===== Autotune & Version Info =====\n",
    "AUTOTUNE = tf.data.experimental.AUTOTUNE\n",
    "print(tf.__version__)"
   ]
  },
  {
   "cell_type": "markdown",
   "metadata": {
    "papermill": {
     "duration": 0.010743,
     "end_time": "2020-08-29T08:27:12.552004",
     "exception": false,
     "start_time": "2020-08-29T08:27:12.541261",
     "status": "completed"
    },
    "tags": []
   },
   "source": [
    "# Load in the data\n",
    "\n",
    "We want to keep our photo dataset and our Monet dataset separate. First, load in the filenames of the TFRecords."
   ]
  },
  {
   "cell_type": "code",
   "execution_count": 2,
   "metadata": {
    "execution": {
     "iopub.execute_input": "2020-08-29T08:27:12.594856Z",
     "iopub.status.busy": "2020-08-29T08:27:12.593948Z",
     "iopub.status.idle": "2020-08-29T08:27:13.591083Z",
     "shell.execute_reply": "2020-08-29T08:27:13.590238Z"
    },
    "papermill": {
     "duration": 1.027954,
     "end_time": "2020-08-29T08:27:13.591219",
     "exception": false,
     "start_time": "2020-08-29T08:27:12.563265",
     "status": "completed"
    },
    "tags": []
   },
   "outputs": [],
   "source": [
    "GCS_PATH = './gan-getting-started/'"
   ]
  },
  {
   "cell_type": "code",
   "execution_count": 3,
   "metadata": {
    "execution": {
     "iopub.execute_input": "2020-08-29T08:27:13.928234Z",
     "iopub.status.busy": "2020-08-29T08:27:13.927282Z",
     "iopub.status.idle": "2020-08-29T08:27:13.932144Z",
     "shell.execute_reply": "2020-08-29T08:27:13.931490Z"
    },
    "papermill": {
     "duration": 0.329473,
     "end_time": "2020-08-29T08:27:13.932267",
     "exception": false,
     "start_time": "2020-08-29T08:27:13.602794",
     "status": "completed"
    },
    "tags": []
   },
   "outputs": [
    {
     "name": "stdout",
     "output_type": "stream",
     "text": [
      "Monet TFRecord Files: 5\n",
      "Photo TFRecord Files: 20\n"
     ]
    }
   ],
   "source": [
    "MONET_FILENAMES = tf.io.gfile.glob(str(GCS_PATH + '/monet_tfrec/*.tfrec'))\n",
    "print('Monet TFRecord Files:', len(MONET_FILENAMES))\n",
    "\n",
    "PHOTO_FILENAMES = tf.io.gfile.glob(str(GCS_PATH + '/photo_tfrec/*.tfrec'))\n",
    "print('Photo TFRecord Files:', len(PHOTO_FILENAMES))"
   ]
  },
  {
   "cell_type": "markdown",
   "metadata": {
    "papermill": {
     "duration": 0.011089,
     "end_time": "2020-08-29T08:27:13.954949",
     "exception": false,
     "start_time": "2020-08-29T08:27:13.943860",
     "status": "completed"
    },
    "tags": []
   },
   "source": [
    "All the images for the competition are already sized to 256x256. As these images are RGB images, set the channel to 3. Additionally, we need to scale the images to a [-1, 1] scale. Because we are building a generative model, we don't need the labels or the image id so we'll only return the image from the TFRecord."
   ]
  },
  {
   "cell_type": "code",
   "execution_count": 4,
   "metadata": {
    "execution": {
     "iopub.execute_input": "2020-08-29T08:27:13.990842Z",
     "iopub.status.busy": "2020-08-29T08:27:13.989787Z",
     "iopub.status.idle": "2020-08-29T08:27:13.993120Z",
     "shell.execute_reply": "2020-08-29T08:27:13.992453Z"
    },
    "papermill": {
     "duration": 0.026749,
     "end_time": "2020-08-29T08:27:13.993244",
     "exception": false,
     "start_time": "2020-08-29T08:27:13.966495",
     "status": "completed"
    },
    "tags": []
   },
   "outputs": [],
   "source": [
    "IMAGE_SIZE = [256, 256]\n",
    "\n",
    "def decode_image(image):\n",
    "    image = tf.image.decode_jpeg(image, channels=3)\n",
    "    image = (tf.cast(image, tf.float32) / 127.5) - 1\n",
    "    image = tf.reshape(image, [*IMAGE_SIZE, 3])\n",
    "    return image\n",
    "\n",
    "\n",
    "def read_tfrecord_with_name(example):\n",
    "    tfrecord_format = {\n",
    "        \"image_name\": tf.io.FixedLenFeature([], tf.string),\n",
    "        \"image\": tf.io.FixedLenFeature([], tf.string),\n",
    "        \"target\": tf.io.FixedLenFeature([], tf.string),\n",
    "    }\n",
    "    ex = tf.io.parse_single_example(example, tfrecord_format)\n",
    "    img = decode_image(ex[\"image\"])      \n",
    "    return img, ex[\"image_name\"]\n",
    "\n",
    "\n",
    "def read_tfrecord(example):\n",
    "    img, _ = read_tfrecord_with_name(example)\n",
    "    return img"
   ]
  },
  {
   "cell_type": "markdown",
   "metadata": {
    "papermill": {
     "duration": 0.011183,
     "end_time": "2020-08-29T08:27:14.016170",
     "exception": false,
     "start_time": "2020-08-29T08:27:14.004987",
     "status": "completed"
    },
    "tags": []
   },
   "source": [
    "Define the function to extract the image from the files."
   ]
  },
  {
   "cell_type": "code",
   "execution_count": 5,
   "metadata": {
    "execution": {
     "iopub.execute_input": "2020-08-29T08:27:14.046298Z",
     "iopub.status.busy": "2020-08-29T08:27:14.045511Z",
     "iopub.status.idle": "2020-08-29T08:27:14.048424Z",
     "shell.execute_reply": "2020-08-29T08:27:14.048985Z"
    },
    "papermill": {
     "duration": 0.021327,
     "end_time": "2020-08-29T08:27:14.049161",
     "exception": false,
     "start_time": "2020-08-29T08:27:14.027834",
     "status": "completed"
    },
    "tags": []
   },
   "outputs": [],
   "source": [
    "def load_dataset(filenames, labeled=True, ordered=False, with_name=False):\n",
    "    ds = tf.data.TFRecordDataset(filenames)\n",
    "    if with_name:\n",
    "        ds = ds.map(read_tfrecord_with_name, num_parallel_calls=AUTOTUNE)\n",
    "    else:\n",
    "        ds = ds.map(read_tfrecord,            num_parallel_calls=AUTOTUNE)\n",
    "    return ds"
   ]
  },
  {
   "cell_type": "markdown",
   "metadata": {
    "papermill": {
     "duration": 0.011381,
     "end_time": "2020-08-29T08:27:14.072330",
     "exception": false,
     "start_time": "2020-08-29T08:27:14.060949",
     "status": "completed"
    },
    "tags": []
   },
   "source": [
    "Let's load in our datasets."
   ]
  },
  {
   "cell_type": "code",
   "execution_count": 6,
   "metadata": {
    "execution": {
     "iopub.execute_input": "2020-08-29T08:27:14.105277Z",
     "iopub.status.busy": "2020-08-29T08:27:14.103723Z",
     "iopub.status.idle": "2020-08-29T08:27:14.417232Z",
     "shell.execute_reply": "2020-08-29T08:27:14.416589Z"
    },
    "papermill": {
     "duration": 0.333224,
     "end_time": "2020-08-29T08:27:14.417363",
     "exception": false,
     "start_time": "2020-08-29T08:27:14.084139",
     "status": "completed"
    },
    "tags": []
   },
   "outputs": [
    {
     "name": "stderr",
     "output_type": "stream",
     "text": [
      "2025-08-19 12:30:04.774821: I tensorflow/core/platform/cpu_feature_guard.cc:142] This TensorFlow binary is optimized with oneAPI Deep Neural Network Library (oneDNN) to use the following CPU instructions in performance-critical operations:  SSE4.1 SSE4.2 AVX AVX2 FMA\n",
      "To enable them in other operations, rebuild TensorFlow with the appropriate compiler flags.\n",
      "2025-08-19 12:30:04.942514: I tensorflow/core/common_runtime/gpu/gpu_device.cc:1510] Created device /job:localhost/replica:0/task:0/device:GPU:0 with 46566 MB memory:  -> device: 0, name: NVIDIA RTX 6000 Ada Generation, pci bus id: 0000:21:00.0, compute capability: 8.9\n"
     ]
    }
   ],
   "source": [
    "monet_ds = load_dataset(MONET_FILENAMES, labeled=True).batch(1)\n",
    "photo_ds = load_dataset(PHOTO_FILENAMES, labeled=True).batch(1)"
   ]
  },
  {
   "cell_type": "markdown",
   "metadata": {},
   "source": [
    "Photos Preprocessing"
   ]
  },
  {
   "cell_type": "code",
   "execution_count": 7,
   "metadata": {},
   "outputs": [
    {
     "name": "stderr",
     "output_type": "stream",
     "text": [
      "2025-08-19 12:30:05.448185: I tensorflow/compiler/mlir/mlir_graph_optimization_pass.cc:185] None of the MLIR Optimization Passes are enabled (registered 2)\n"
     ]
    }
   ],
   "source": [
    "def compute_channel_stats(ds, take=None):\n",
    "    total = 0\n",
    "    s  = np.zeros(3, dtype=np.float64)\n",
    "    s2 = np.zeros(3, dtype=np.float64)\n",
    "    it = ds if take is None else ds.take(take)\n",
    "    for img in it:                               \n",
    "        if isinstance(img, (tuple, list)):\n",
    "            img = img[0]\n",
    "        x = img.numpy().reshape(-1, 3).astype(np.float64)  # [-1,1]\n",
    "        s  += x.sum(axis=0)\n",
    "        s2 += np.square(x).sum(axis=0)\n",
    "        total += x.shape[0]\n",
    "    mean = s / total\n",
    "    var  = s2 / total - np.square(mean)\n",
    "    std  = np.sqrt(np.maximum(var, 1e-12))\n",
    "    return mean.astype(np.float32), std.astype(np.float32)\n",
    "\n",
    "def build_channel_matcher(src_mean, src_std, tgt_mean, tgt_std):\n",
    "    scale = (tgt_std / np.maximum(src_std, 1e-8)).astype(np.float32)\n",
    "    shift = (tgt_mean - src_mean * scale).astype(np.float32)\n",
    "    scale_tf = tf.constant(scale, dtype=tf.float32)\n",
    "    shift_tf = tf.constant(shift, dtype=tf.float32)\n",
    "    def preprocess(img):\n",
    "        y = img * scale_tf + shift_tf\n",
    "        return tf.clip_by_value(y, -1.0, 1.0)\n",
    "    return preprocess, scale, shift\n",
    "\n",
    "# compute stats on datasets\n",
    "photo_mean, photo_std = compute_channel_stats(photo_ds)\n",
    "monet_mean, monet_std = compute_channel_stats(monet_ds)\n",
    "\n",
    "# build the preprocessing fn and apply it to the photo stream\n",
    "preprocess_photo_to_monet, scale_vec, shift_vec = build_channel_matcher(\n",
    "    photo_mean, photo_std, monet_mean, monet_std\n",
    ")\n",
    "photo_ds = photo_ds.map(preprocess_photo_to_monet, num_parallel_calls=tf.data.AUTOTUNE)\n"
   ]
  },
  {
   "cell_type": "markdown",
   "metadata": {
    "papermill": {
     "duration": 0.012983,
     "end_time": "2020-08-29T08:27:16.285923",
     "exception": false,
     "start_time": "2020-08-29T08:27:16.272940",
     "status": "completed"
    },
    "tags": []
   },
   "source": [
    "# Build the generator\n",
    "\n",
    "We'll be using a UNET architecture for our CycleGAN. To build our generator, let's first define our `downsample` and `upsample` methods.\n",
    "\n",
    "The `downsample`, as the name suggests, reduces the 2D dimensions, the width and height, of the image by the stride. The stride is the length of the step the filter takes. Since the stride is 2, the filter is applied to every other pixel, hence reducing the weight and height by 2.\n",
    "\n",
    "We'll be using an instance normalization instead of batch normalization. As the instance normalization is not standard in the TensorFlow API, we'll use the layer from TensorFlow Add-ons."
   ]
  },
  {
   "cell_type": "code",
   "execution_count": 8,
   "metadata": {
    "execution": {
     "iopub.execute_input": "2020-08-29T08:27:16.323098Z",
     "iopub.status.busy": "2020-08-29T08:27:16.322049Z",
     "iopub.status.idle": "2020-08-29T08:27:16.325579Z",
     "shell.execute_reply": "2020-08-29T08:27:16.324929Z"
    },
    "papermill": {
     "duration": 0.026742,
     "end_time": "2020-08-29T08:27:16.325757",
     "exception": false,
     "start_time": "2020-08-29T08:27:16.299015",
     "status": "completed"
    },
    "tags": []
   },
   "outputs": [],
   "source": [
    "OUTPUT_CHANNELS = 3\n",
    "\n",
    "def downsample(filters, size, apply_instancenorm=True):\n",
    "    initializer = tf.random_normal_initializer(0., 0.02)\n",
    "    gamma_init = keras.initializers.RandomNormal(mean=0.0, stddev=0.02)\n",
    "\n",
    "    result = keras.Sequential()\n",
    "    result.add(layers.Conv2D(filters, size, strides=2, padding='same',\n",
    "                             kernel_initializer=initializer, use_bias=False))\n",
    "\n",
    "    if apply_instancenorm:\n",
    "        result.add(tfa.layers.InstanceNormalization(gamma_initializer=gamma_init))\n",
    "\n",
    "    result.add(layers.LeakyReLU())\n",
    "\n",
    "    return result"
   ]
  },
  {
   "cell_type": "markdown",
   "metadata": {
    "papermill": {
     "duration": 0.012819,
     "end_time": "2020-08-29T08:27:16.352056",
     "exception": false,
     "start_time": "2020-08-29T08:27:16.339237",
     "status": "completed"
    },
    "tags": []
   },
   "source": [
    "`Upsample` does the opposite of downsample and increases the dimensions of the of the image. `Conv2DTranspose` does basically the opposite of a `Conv2D` layer."
   ]
  },
  {
   "cell_type": "code",
   "execution_count": 9,
   "metadata": {
    "execution": {
     "iopub.execute_input": "2020-08-29T08:27:16.388875Z",
     "iopub.status.busy": "2020-08-29T08:27:16.388093Z",
     "iopub.status.idle": "2020-08-29T08:27:16.391770Z",
     "shell.execute_reply": "2020-08-29T08:27:16.390974Z"
    },
    "papermill": {
     "duration": 0.026678,
     "end_time": "2020-08-29T08:27:16.391892",
     "exception": false,
     "start_time": "2020-08-29T08:27:16.365214",
     "status": "completed"
    },
    "tags": []
   },
   "outputs": [],
   "source": [
    "def upsample(filters, size, apply_dropout=False):\n",
    "    initializer = tf.random_normal_initializer(0., 0.02)\n",
    "    gamma_init = keras.initializers.RandomNormal(mean=0.0, stddev=0.02)\n",
    "\n",
    "    result = keras.Sequential()\n",
    "    result.add(layers.Conv2DTranspose(filters, size, strides=2,\n",
    "                                      padding='same',\n",
    "                                      kernel_initializer=initializer,\n",
    "                                      use_bias=False))\n",
    "\n",
    "    result.add(tfa.layers.InstanceNormalization(gamma_initializer=gamma_init))\n",
    "\n",
    "    if apply_dropout:\n",
    "        result.add(layers.Dropout(0.5))\n",
    "\n",
    "    result.add(layers.ReLU())\n",
    "\n",
    "    return result"
   ]
  },
  {
   "cell_type": "markdown",
   "metadata": {},
   "source": [
    "SelfAttention - REMOVED"
   ]
  },
  {
   "cell_type": "markdown",
   "metadata": {
    "papermill": {
     "duration": 0.012895,
     "end_time": "2020-08-29T08:27:16.418061",
     "exception": false,
     "start_time": "2020-08-29T08:27:16.405166",
     "status": "completed"
    },
    "tags": []
   },
   "source": [
    "Let's build our generator!\n",
    "\n",
    "The generator first downsamples the input image and then upsample while establishing long skip connections. Skip connections are a way to help bypass the vanishing gradient problem by concatenating the output of a layer to multiple layers instead of only one. Here we concatenate the output of the downsample layer to the upsample layer in a symmetrical fashion."
   ]
  },
  {
   "cell_type": "code",
   "execution_count": 10,
   "metadata": {
    "execution": {
     "iopub.execute_input": "2020-08-29T08:27:16.462513Z",
     "iopub.status.busy": "2020-08-29T08:27:16.461714Z",
     "iopub.status.idle": "2020-08-29T08:27:16.465151Z",
     "shell.execute_reply": "2020-08-29T08:27:16.464516Z"
    },
    "papermill": {
     "duration": 0.033907,
     "end_time": "2020-08-29T08:27:16.465273",
     "exception": false,
     "start_time": "2020-08-29T08:27:16.431366",
     "status": "completed"
    },
    "tags": []
   },
   "outputs": [],
   "source": [
    "def Generator():\n",
    "    inputs = layers.Input(shape=[256,256,3])\n",
    "\n",
    "    # Larger down_stack with more filters\n",
    "    down_stack = [\n",
    "        downsample(96, 4, apply_instancenorm=False), # (bs, 128, 128, 96) - increased from 64\n",
    "        downsample(192, 4), # (bs, 64, 64, 192) - increased from 128\n",
    "        downsample(384, 4), # (bs, 32, 32, 384) - increased from 256\n",
    "        downsample(768, 4), # (bs, 16, 16, 768) - increased from 512\n",
    "        downsample(768, 4), # (bs, 8, 8, 768)\n",
    "        downsample(768, 4), # (bs, 4, 4, 768)\n",
    "        downsample(768, 4), # (bs, 2, 2, 768)\n",
    "        downsample(768, 4), # (bs, 1, 1, 768)\n",
    "    ]\n",
    "\n",
    "    # Larger up_stack with corresponding filter increases\n",
    "    up_stack = [\n",
    "        upsample(768, 4, apply_dropout=True), # (bs, 2, 2, 1536)\n",
    "        upsample(768, 4, apply_dropout=True), # (bs, 4, 4, 1536)\n",
    "        upsample(768, 4, apply_dropout=True), # (bs, 8, 8, 1536)\n",
    "        upsample(768, 4), # (bs, 16, 16, 1536)\n",
    "        upsample(384, 4), # (bs, 32, 32, 768) - increased from 256\n",
    "        upsample(192, 4), # (bs, 64, 64, 384) - increased from 128\n",
    "        upsample(96, 4), # (bs, 128, 128, 192) - increased from 64\n",
    "    ]\n",
    "\n",
    "    initializer = tf.random_normal_initializer(0., 0.02)\n",
    "    last = layers.Conv2DTranspose(OUTPUT_CHANNELS, 4,\n",
    "                                  strides=2,\n",
    "                                  padding='same',\n",
    "                                  kernel_initializer=initializer,\n",
    "                                  activation='tanh') # (bs, 256, 256, 3)\n",
    "\n",
    "    x = inputs\n",
    "\n",
    "    # Downsampling through the model with more self-attention\n",
    "    skips = []\n",
    "    for i, down in enumerate(down_stack):\n",
    "        x = down(x)\n",
    "\n",
    "        skips.append(x)\n",
    "    \n",
    "    skips = reversed(skips[:-1])\n",
    "    \n",
    "    # Upsampling and establishing the skip connections with more self-attention\n",
    "    for i, (up, skip) in enumerate(zip(up_stack, skips)):\n",
    "        x = up(x)\n",
    "        x = layers.Concatenate()([x, skip])\n",
    "        # Add self-attention at more upsampling layers\n",
    "\n",
    "    \n",
    "    x = last(x)\n",
    "\n",
    "    return keras.Model(inputs=inputs, outputs=x)"
   ]
  },
  {
   "cell_type": "markdown",
   "metadata": {
    "papermill": {
     "duration": 0.012989,
     "end_time": "2020-08-29T08:27:16.491503",
     "exception": false,
     "start_time": "2020-08-29T08:27:16.478514",
     "status": "completed"
    },
    "tags": []
   },
   "source": [
    "# Build the discriminator\n",
    "\n",
    "The discriminator takes in the input image and classifies it as real or fake (generated). Instead of outputing a single node, the discriminator outputs a smaller 2D image with higher pixel values indicating a real classification and lower values indicating a fake classification."
   ]
  },
  {
   "cell_type": "code",
   "execution_count": 11,
   "metadata": {
    "execution": {
     "iopub.execute_input": "2020-08-29T08:27:16.532441Z",
     "iopub.status.busy": "2020-08-29T08:27:16.531535Z",
     "iopub.status.idle": "2020-08-29T08:27:16.534854Z",
     "shell.execute_reply": "2020-08-29T08:27:16.534266Z"
    },
    "papermill": {
     "duration": 0.030335,
     "end_time": "2020-08-29T08:27:16.534977",
     "exception": false,
     "start_time": "2020-08-29T08:27:16.504642",
     "status": "completed"
    },
    "tags": []
   },
   "outputs": [],
   "source": [
    "def Discriminator():\n",
    "    initializer = tf.random_normal_initializer(0., 0.02)\n",
    "    gamma_init = keras.initializers.RandomNormal(mean=0.0, stddev=0.02)\n",
    "\n",
    "    inp = layers.Input(shape=[256, 256, 3], name='input_image')\n",
    "\n",
    "    x = inp\n",
    "\n",
    "    # Larger discriminator with more layers and filters\n",
    "    down1 = downsample(96, 4, False)(x) # (bs, 128, 128, 96) - increased from 64\n",
    "    down2 = downsample(192, 4)(down1) # (bs, 64, 64, 192) - increased from 128\n",
    "    down3 = downsample(384, 4)(down2) # (bs, 32, 32, 384) - increased from 256\n",
    "    \n",
    "    # Add self-attention to discriminator\n",
    "    \n",
    "    # Additional layer for larger discriminator\n",
    "    down4 = downsample(768, 4)(down3) # (bs, 16, 16, 768) - new layer\n",
    "\n",
    "    zero_pad1 = layers.ZeroPadding2D()(down4) # (bs, 18, 18, 768)\n",
    "    conv = layers.Conv2D(768, 4, strides=1,  # increased from 512\n",
    "                         kernel_initializer=initializer,\n",
    "                         use_bias=False)(zero_pad1) # (bs, 15, 15, 768)\n",
    "\n",
    "    norm1 = tfa.layers.InstanceNormalization(gamma_initializer=gamma_init)(conv)\n",
    "\n",
    "    leaky_relu = layers.LeakyReLU()(norm1)\n",
    "\n",
    "    zero_pad2 = layers.ZeroPadding2D()(leaky_relu) # (bs, 17, 17, 768)\n",
    "\n",
    "    last = layers.Conv2D(1, 4, strides=1,\n",
    "                         kernel_initializer=initializer)(zero_pad2) # (bs, 14, 14, 1)\n",
    "\n",
    "    return tf.keras.Model(inputs=inp, outputs=last)"
   ]
  },
  {
   "cell_type": "markdown",
   "metadata": {
    "papermill": {
     "duration": 0.013578,
     "end_time": "2020-08-29T08:27:26.554960",
     "exception": false,
     "start_time": "2020-08-29T08:27:26.541382",
     "status": "completed"
    },
    "tags": []
   },
   "source": [
    "Since our generators are not trained yet, the generated Monet-esque photo does not show what is expected at this point."
   ]
  },
  {
   "cell_type": "markdown",
   "metadata": {},
   "source": [
    "VGG Feature Extractor for Perceptual Loss\n"
   ]
  },
  {
   "cell_type": "code",
   "execution_count": 12,
   "metadata": {},
   "outputs": [],
   "source": [
    "# VGG Feature Extractor for Perceptual Loss\n",
    "def create_vgg_feature_extractor():\n",
    "    vgg = tf.keras.applications.VGG19(weights='imagenet', include_top=False)\n",
    "    \n",
    "    # Make all layer names unique by adding prefix\n",
    "    for layer in vgg.layers:\n",
    "        layer._name = f\"vgg_perceptual_{layer.name}\"\n",
    "    \n",
    "    # Extract features from multiple layers\n",
    "    layer_names = ['vgg_perceptual_block1_conv1', 'vgg_perceptual_block2_conv1', \n",
    "                   'vgg_perceptual_block3_conv1', 'vgg_perceptual_block4_conv1', \n",
    "                   'vgg_perceptual_block5_conv1']\n",
    "    outputs = [vgg.get_layer(name).output for name in layer_names]\n",
    "    model = tf.keras.Model([vgg.input], outputs)\n",
    "    model.trainable = False\n",
    "    \n",
    "    # Also rename the final model\n",
    "    model._name = \"vgg_perceptual_feature_extractor\"\n",
    "    \n",
    "    return model\n",
    "\n",
    "# Initialize VGG feature extractor\n",
    "with strategy.scope():\n",
    "    vgg_feature_extractor = create_vgg_feature_extractor()"
   ]
  },
  {
   "cell_type": "markdown",
   "metadata": {
    "papermill": {
     "duration": 0.013939,
     "end_time": "2020-08-29T08:27:27.319522",
     "exception": false,
     "start_time": "2020-08-29T08:27:27.305583",
     "status": "completed"
    },
    "tags": []
   },
   "source": [
    "# Build the CycleGAN model\n",
    "\n",
    "We will subclass a `tf.keras.Model` so that we can run `fit()` later to train our model. During the training step, the model transforms a photo to a Monet painting and then back to a photo. The difference between the original photo and the twice-transformed photo is the cycle-consistency loss. We want the original photo and the twice-transformed photo to be similar to one another.\n",
    "\n",
    "The losses are defined in the next section."
   ]
  },
  {
   "cell_type": "code",
   "execution_count": 13,
   "metadata": {
    "execution": {
     "iopub.execute_input": "2020-08-29T08:27:27.381412Z",
     "iopub.status.busy": "2020-08-29T08:27:27.380367Z",
     "iopub.status.idle": "2020-08-29T08:27:27.382858Z",
     "shell.execute_reply": "2020-08-29T08:27:27.383391Z"
    },
    "papermill": {
     "duration": 0.049519,
     "end_time": "2020-08-29T08:27:27.383553",
     "exception": false,
     "start_time": "2020-08-29T08:27:27.334034",
     "status": "completed"
    },
    "tags": []
   },
   "outputs": [],
   "source": [
    "class CycleGan(keras.Model):\n",
    "    def __init__(\n",
    "        self,\n",
    "        monet_generator,\n",
    "        photo_generator,\n",
    "        monet_discriminator,\n",
    "        photo_discriminator,\n",
    "        lambda_cycle=10,\n",
    "        vgg_feature_extractor=None,\n",
    "    ):\n",
    "        super(CycleGan, self).__init__()\n",
    "        self.m_gen = monet_generator\n",
    "        self.p_gen = photo_generator\n",
    "        self.m_disc = monet_discriminator\n",
    "        self.p_disc = photo_discriminator\n",
    "        self.lambda_cycle = lambda_cycle\n",
    "        self.vgg_feature_extractor = vgg_feature_extractor\n",
    "        self.lambda_lsgan = 0.5\n",
    "        \n",
    "    def compile(\n",
    "        self,\n",
    "        m_gen_optimizer,\n",
    "        p_gen_optimizer,\n",
    "        m_disc_optimizer,\n",
    "        p_disc_optimizer,\n",
    "        gen_loss_fn,\n",
    "        disc_loss_fn,\n",
    "        cycle_loss_fn,\n",
    "        identity_loss_fn,\n",
    "        perceptual_loss_fn,\n",
    "        lsgan_gen_loss_fn,\n",
    "        lsgan_disc_loss_fn\n",
    "    ):\n",
    "        super(CycleGan, self).compile()\n",
    "        self.m_gen_optimizer = m_gen_optimizer\n",
    "        self.p_gen_optimizer = p_gen_optimizer\n",
    "        self.m_disc_optimizer = m_disc_optimizer\n",
    "        self.p_disc_optimizer = p_disc_optimizer\n",
    "        self.gen_loss_fn = gen_loss_fn\n",
    "        self.disc_loss_fn = disc_loss_fn\n",
    "        self.cycle_loss_fn = cycle_loss_fn\n",
    "        self.identity_loss_fn = identity_loss_fn\n",
    "        self.perceptual_loss_fn = perceptual_loss_fn\n",
    "        self.lsgan_gen_loss_fn = lsgan_gen_loss_fn\n",
    "        self.lsgan_disc_loss_fn = lsgan_disc_loss_fn\n",
    "        \n",
    "    def train_step(self, batch_data):\n",
    "        real_monet, real_photo = batch_data\n",
    "        \n",
    "        with tf.GradientTape(persistent=True) as tape:\n",
    "            # photo to monet back to photo\n",
    "            fake_monet = self.m_gen(real_photo, training=True)\n",
    "            cycled_photo = self.p_gen(fake_monet, training=True)\n",
    "\n",
    "            # monet to photo back to monet\n",
    "            fake_photo = self.p_gen(real_monet, training=True)\n",
    "            cycled_monet = self.m_gen(fake_photo, training=True)\n",
    "\n",
    "            # generating itself\n",
    "            same_monet = self.m_gen(real_monet, training=True)\n",
    "            same_photo = self.p_gen(real_photo, training=True)\n",
    "\n",
    "            # discriminator used to check, inputing real images\n",
    "            disc_real_monet = self.m_disc(real_monet, training=True)\n",
    "            disc_real_photo = self.p_disc(real_photo, training=True)\n",
    "\n",
    "            # discriminator used to check, inputing fake images\n",
    "            disc_fake_monet = self.m_disc(fake_monet, training=True)\n",
    "            disc_fake_photo = self.p_disc(fake_photo, training=True)\n",
    "\n",
    "            # evaluates generator loss\n",
    "            monet_gen_loss = self.gen_loss_fn(disc_fake_monet)\n",
    "            photo_gen_loss = self.gen_loss_fn(disc_fake_photo)\n",
    "            monet_lsgan_gen_loss = self.lsgan_gen_loss_fn(disc_fake_monet)\n",
    "            photo_lsgan_gen_loss = self.lsgan_gen_loss_fn(disc_fake_photo)\n",
    "\n",
    "            # evaluates total cycle consistency loss\n",
    "            total_cycle_loss = self.cycle_loss_fn(real_monet, cycled_monet, self.lambda_cycle) + self.cycle_loss_fn(real_photo, cycled_photo, self.lambda_cycle)\n",
    "\n",
    "            # evaluates perceptual loss\n",
    "            monet_perceptual_loss = self.perceptual_loss_fn(real_photo, fake_monet, self.vgg_feature_extractor)\n",
    "            photo_perceptual_loss = self.perceptual_loss_fn(real_monet, fake_photo, self.vgg_feature_extractor)\n",
    "\n",
    "            # evaluates total generator loss\n",
    "            total_monet_gen_loss = monet_gen_loss + total_cycle_loss + self.identity_loss_fn(real_monet, same_monet, self.lambda_cycle) + monet_perceptual_loss + self.lambda_lsgan * monet_lsgan_gen_loss\n",
    "            total_photo_gen_loss = photo_gen_loss + total_cycle_loss + self.identity_loss_fn(real_photo, same_photo, self.lambda_cycle) + photo_perceptual_loss + self.lambda_lsgan * photo_lsgan_gen_loss\n",
    "\n",
    "            # evaluates discriminator loss\n",
    "            monet_lsgan_disc_loss = self.lsgan_disc_loss_fn(disc_real_monet, disc_fake_monet)\n",
    "            photo_lsgan_disc_loss = self.lsgan_disc_loss_fn(disc_real_photo, disc_fake_photo)\n",
    "\n",
    "            monet_disc_loss = self.disc_loss_fn(disc_real_monet, disc_fake_monet) + self.lambda_lsgan * monet_lsgan_disc_loss\n",
    "            photo_disc_loss = self.disc_loss_fn(disc_real_photo, disc_fake_photo) + self.lambda_lsgan * photo_lsgan_disc_loss\n",
    "\n",
    "        # Calculate the gradients for generator and discriminator\n",
    "        monet_generator_gradients = tape.gradient(total_monet_gen_loss,\n",
    "                                                  self.m_gen.trainable_variables)\n",
    "        photo_generator_gradients = tape.gradient(total_photo_gen_loss,\n",
    "                                                  self.p_gen.trainable_variables)\n",
    "\n",
    "        monet_discriminator_gradients = tape.gradient(monet_disc_loss,\n",
    "                                                      self.m_disc.trainable_variables)\n",
    "        photo_discriminator_gradients = tape.gradient(photo_disc_loss,\n",
    "                                                      self.p_disc.trainable_variables)\n",
    "\n",
    "        # Apply the gradients to the optimizer\n",
    "        self.m_gen_optimizer.apply_gradients(zip(monet_generator_gradients,\n",
    "                                                 self.m_gen.trainable_variables))\n",
    "\n",
    "        self.p_gen_optimizer.apply_gradients(zip(photo_generator_gradients,\n",
    "                                                 self.p_gen.trainable_variables))\n",
    "\n",
    "        self.m_disc_optimizer.apply_gradients(zip(monet_discriminator_gradients,\n",
    "                                                  self.m_disc.trainable_variables))\n",
    "\n",
    "        self.p_disc_optimizer.apply_gradients(zip(photo_discriminator_gradients,\n",
    "                                                  self.p_disc.trainable_variables))\n",
    "        \n",
    "        return {\n",
    "            \"monet_gen_loss\": total_monet_gen_loss,\n",
    "            \"photo_gen_loss\": total_photo_gen_loss,\n",
    "            \"monet_disc_loss\": monet_disc_loss,\n",
    "            \"photo_disc_loss\": photo_disc_loss\n",
    "        }"
   ]
  },
  {
   "cell_type": "markdown",
   "metadata": {
    "papermill": {
     "duration": 0.01417,
     "end_time": "2020-08-29T08:27:27.412256",
     "exception": false,
     "start_time": "2020-08-29T08:27:27.398086",
     "status": "completed"
    },
    "tags": []
   },
   "source": [
    "# Define loss functions\n",
    "\n",
    "The discriminator loss function below compares real images to a matrix of 1s and fake images to a matrix of 0s. The perfect discriminator will output all 1s for real images and all 0s for fake images. The discriminator loss outputs the average of the real and generated loss."
   ]
  },
  {
   "cell_type": "code",
   "execution_count": 14,
   "metadata": {
    "execution": {
     "iopub.execute_input": "2020-08-29T08:27:27.450634Z",
     "iopub.status.busy": "2020-08-29T08:27:27.449541Z",
     "iopub.status.idle": "2020-08-29T08:27:27.452601Z",
     "shell.execute_reply": "2020-08-29T08:27:27.453213Z"
    },
    "papermill": {
     "duration": 0.02693,
     "end_time": "2020-08-29T08:27:27.453371",
     "exception": false,
     "start_time": "2020-08-29T08:27:27.426441",
     "status": "completed"
    },
    "tags": []
   },
   "outputs": [],
   "source": [
    "with strategy.scope():\n",
    "    def discriminator_loss(real, generated):\n",
    "        real_loss = tf.keras.losses.BinaryCrossentropy(from_logits=True, reduction=tf.keras.losses.Reduction.NONE)(tf.ones_like(real), real)\n",
    "\n",
    "        generated_loss = tf.keras.losses.BinaryCrossentropy(from_logits=True, reduction=tf.keras.losses.Reduction.NONE)(tf.zeros_like(generated), generated)\n",
    "\n",
    "        total_disc_loss = real_loss + generated_loss\n",
    "\n",
    "        return total_disc_loss * 0.5"
   ]
  },
  {
   "cell_type": "code",
   "execution_count": 15,
   "metadata": {},
   "outputs": [],
   "source": [
    "with strategy.scope():\n",
    "    def lsgan_discriminator_loss(real, generated):\n",
    "        # LSGAN discriminator loss: ½E[(D(x) - 1)²] + ½E[(D(G(z)))²]\n",
    "        real_loss = tf.reduce_mean(tf.square(real - 1.0))\n",
    "        generated_loss = tf.reduce_mean(tf.square(generated - 0.0))\n",
    "        total_lsgan_disc_loss = real_loss + generated_loss\n",
    "        return total_lsgan_disc_loss * 0.5"
   ]
  },
  {
   "cell_type": "markdown",
   "metadata": {
    "papermill": {
     "duration": 0.014183,
     "end_time": "2020-08-29T08:27:27.482436",
     "exception": false,
     "start_time": "2020-08-29T08:27:27.468253",
     "status": "completed"
    },
    "tags": []
   },
   "source": [
    "The generator wants to fool the discriminator into thinking the generated image is real. The perfect generator will have the discriminator output only 1s. Thus, it compares the generated image to a matrix of 1s to find the loss."
   ]
  },
  {
   "cell_type": "code",
   "execution_count": 16,
   "metadata": {
    "execution": {
     "iopub.execute_input": "2020-08-29T08:27:27.519607Z",
     "iopub.status.busy": "2020-08-29T08:27:27.518561Z",
     "iopub.status.idle": "2020-08-29T08:27:27.521897Z",
     "shell.execute_reply": "2020-08-29T08:27:27.521139Z"
    },
    "papermill": {
     "duration": 0.025103,
     "end_time": "2020-08-29T08:27:27.522023",
     "exception": false,
     "start_time": "2020-08-29T08:27:27.496920",
     "status": "completed"
    },
    "tags": []
   },
   "outputs": [],
   "source": [
    "with strategy.scope():\n",
    "    def generator_loss(generated):\n",
    "        return tf.keras.losses.BinaryCrossentropy(from_logits=True, reduction=tf.keras.losses.Reduction.NONE)(tf.ones_like(generated), generated)"
   ]
  },
  {
   "cell_type": "code",
   "execution_count": 17,
   "metadata": {},
   "outputs": [],
   "source": [
    "with strategy.scope():\n",
    "    def lsgan_generator_loss(generated):\n",
    "        # LSGAN generator loss: ½E[(D(G(z)) - 1)²]\n",
    "        return tf.reduce_mean(tf.square(generated - 1.0))"
   ]
  },
  {
   "cell_type": "markdown",
   "metadata": {
    "papermill": {
     "duration": 0.014145,
     "end_time": "2020-08-29T08:27:27.550631",
     "exception": false,
     "start_time": "2020-08-29T08:27:27.536486",
     "status": "completed"
    },
    "tags": []
   },
   "source": [
    "We want our original photo and the twice transformed photo to be similar to one another. Thus, we can calculate the cycle consistency loss be finding the average of their difference."
   ]
  },
  {
   "cell_type": "code",
   "execution_count": 18,
   "metadata": {
    "execution": {
     "iopub.execute_input": "2020-08-29T08:27:27.586626Z",
     "iopub.status.busy": "2020-08-29T08:27:27.585608Z",
     "iopub.status.idle": "2020-08-29T08:27:27.588341Z",
     "shell.execute_reply": "2020-08-29T08:27:27.589010Z"
    },
    "papermill": {
     "duration": 0.023987,
     "end_time": "2020-08-29T08:27:27.589167",
     "exception": false,
     "start_time": "2020-08-29T08:27:27.565180",
     "status": "completed"
    },
    "tags": []
   },
   "outputs": [],
   "source": [
    "with strategy.scope():\n",
    "    def calc_cycle_loss(real_image, cycled_image, LAMBDA):\n",
    "        loss1 = tf.reduce_mean(tf.abs(real_image - cycled_image))\n",
    "\n",
    "        return LAMBDA * loss1"
   ]
  },
  {
   "cell_type": "code",
   "execution_count": 19,
   "metadata": {},
   "outputs": [],
   "source": [
    "with strategy.scope():\n",
    "    def perceptual_loss(real_image, generated_image, vgg_model, lambda_perceptual=0.002):  \n",
    "        # Preprocess images for VGG (convert from [-1,1] to [0,255] and then normalize)\n",
    "        real_processed = tf.keras.applications.vgg19.preprocess_input((real_image + 1) * 127.5)\n",
    "        generated_processed = tf.keras.applications.vgg19.preprocess_input((generated_image + 1) * 127.5)\n",
    "        \n",
    "        # Extract features\n",
    "        real_features = vgg_model(real_processed)\n",
    "        generated_features = vgg_model(generated_processed)\n",
    "        \n",
    "        # Compute loss at each layer\n",
    "        perceptual_loss_value = 0\n",
    "        for real_feat, gen_feat in zip(real_features, generated_features):\n",
    "            perceptual_loss_value += tf.reduce_mean(tf.abs(real_feat - gen_feat))\n",
    "        \n",
    "        return lambda_perceptual * perceptual_loss_value"
   ]
  },
  {
   "cell_type": "markdown",
   "metadata": {
    "papermill": {
     "duration": 0.014192,
     "end_time": "2020-08-29T08:27:27.617994",
     "exception": false,
     "start_time": "2020-08-29T08:27:27.603802",
     "status": "completed"
    },
    "tags": []
   },
   "source": [
    "The identity loss compares the image with its generator (i.e. photo with photo generator). If given a photo as input, we want it to generate the same image as the image was originally a photo. The identity loss compares the input with the output of the generator."
   ]
  },
  {
   "cell_type": "code",
   "execution_count": 20,
   "metadata": {
    "execution": {
     "iopub.execute_input": "2020-08-29T08:27:27.654107Z",
     "iopub.status.busy": "2020-08-29T08:27:27.653191Z",
     "iopub.status.idle": "2020-08-29T08:27:27.655732Z",
     "shell.execute_reply": "2020-08-29T08:27:27.656297Z"
    },
    "papermill": {
     "duration": 0.024098,
     "end_time": "2020-08-29T08:27:27.656443",
     "exception": false,
     "start_time": "2020-08-29T08:27:27.632345",
     "status": "completed"
    },
    "tags": []
   },
   "outputs": [],
   "source": [
    "with strategy.scope():\n",
    "    def identity_loss(real_image, same_image, LAMBDA):\n",
    "        loss = tf.reduce_mean(tf.abs(real_image - same_image))\n",
    "        return LAMBDA * 0.5 * loss"
   ]
  },
  {
   "cell_type": "markdown",
   "metadata": {},
   "source": [
    "# Train Model"
   ]
  },
  {
   "cell_type": "code",
   "execution_count": 21,
   "metadata": {},
   "outputs": [],
   "source": [
    "class EpochAverageLogs(tf.keras.callbacks.Callback):\n",
    "    \"\"\"\n",
    "    Averages selected log keys over training batches so CSVLogger records clean scalars.\n",
    "    \"\"\"\n",
    "    def __init__(self, keys):\n",
    "        super().__init__()\n",
    "        self.keys = tuple(keys)\n",
    "        self._reset()\n",
    "\n",
    "    def _reset(self):\n",
    "        self.sums = {k: 0.0 for k in self.keys}\n",
    "        self.count = 0\n",
    "\n",
    "    def _to_float(self, v):\n",
    "        if isinstance(v, (list, tuple)):\n",
    "            return float(np.mean([self._to_float(x) for x in v]))\n",
    "        if tf.is_tensor(v):\n",
    "            v = v.numpy()\n",
    "        if isinstance(v, np.ndarray):\n",
    "            return float(np.mean(v))\n",
    "        return float(v)\n",
    "\n",
    "    def on_train_batch_end(self, batch, logs=None):\n",
    "        if not logs:\n",
    "            return\n",
    "        self.count += 1\n",
    "        for k in self.keys:\n",
    "            if k in logs:\n",
    "                try:\n",
    "                    self.sums[k] += self._to_float(logs[k])\n",
    "                except Exception:\n",
    "                    pass  # ignore weird/unexpected types\n",
    "\n",
    "    def on_epoch_end(self, epoch, logs=None):\n",
    "        logs = logs or {}\n",
    "        if self.count > 0:\n",
    "            for k in self.keys:\n",
    "                logs[k] = self.sums[k] / self.count\n",
    "        self._reset()\n"
   ]
  },
  {
   "cell_type": "code",
   "execution_count": null,
   "metadata": {},
   "outputs": [],
   "source": [
    "def run_training_once(seed: int,\n",
    "                      out_root: str,\n",
    "                      epochs: int = 25,\n",
    "                      monet_files=MONET_FILENAMES,\n",
    "                      photo_files=PHOTO_FILENAMES):\n",
    "\n",
    "\n",
    "    # --------------------- Helpers ---------------------\n",
    "    def set_global_seed(seed_val):\n",
    "        os.environ[\"PYTHONHASHSEED\"] = str(seed_val)\n",
    "        random.seed(seed_val)\n",
    "        np.random.seed(seed_val)\n",
    "        tf.random.set_seed(seed_val)\n",
    "\n",
    "    def make_outdir(root, seed_val):\n",
    "        out = Path(root) / f\"seed_{seed_val:04d}\"\n",
    "        (out / \"images\").mkdir(parents=True, exist_ok=True)\n",
    "        (out / \"ckpts\").mkdir(parents=True, exist_ok=True)\n",
    "        return out\n",
    "\n",
    "    VALID_EXTS = {\".jpg\", \".jpeg\", \".png\", \".webp\", \".bmp\"}\n",
    "\n",
    "    def sanitize_fname(raw_name: str, default_ext: str) -> str:\n",
    "        p = Path(raw_name)\n",
    "        base = p.name  \n",
    "        ext = Path(base).suffix.lower()\n",
    "        if ext not in VALID_EXTS:\n",
    "            base = Path(base).stem + default_ext\n",
    "        base = base.replace(\"\\n\", \"_\").replace(\"\\r\", \"_\").strip()\n",
    "        if base == \"\" or base in {\".\", \"..\"}:\n",
    "            base = f\"img_{seed}_{np.random.randint(1e9)}{default_ext}\"\n",
    "        return base\n",
    "\n",
    "    def pick_default_ext(array_like) -> str:\n",
    "        try:\n",
    "            if array_like.ndim == 2:\n",
    "                return \".png\"\n",
    "            if array_like.ndim == 3 and array_like.shape[-1] in (1,):\n",
    "                return \".png\"\n",
    "            return \".jpg\"\n",
    "        except Exception:\n",
    "            return \".jpg\"\n",
    "\n",
    "    def build_datasets(monet_files, photo_files, batch_size=1, seed_val=0):\n",
    "        monet = load_dataset(monet_files)\n",
    "\n",
    "        photo = load_dataset(photo_files)\n",
    "        photo = photo.map(preprocess_photo_to_monet,\n",
    "                          num_parallel_calls=tf.data.AUTOTUNE)\n",
    "\n",
    "        monet = monet.shuffle(2048, seed=seed_val, reshuffle_each_iteration=True).batch(batch_size)\n",
    "        photo = photo.shuffle(2048, seed=seed_val, reshuffle_each_iteration=True).batch(batch_size)\n",
    "        return monet, photo\n",
    "\n",
    "    tf.keras.backend.clear_session()\n",
    "    set_global_seed(seed)\n",
    "    outdir = make_outdir(out_root, seed)\n",
    "    print(f\"\\n=== Training seed {seed} ===\\nOutputs -> {outdir}\")\n",
    "\n",
    "    monet_ds, photo_ds = build_datasets(monet_files, photo_files, batch_size=1, seed_val=seed)\n",
    "\n",
    "    with strategy.scope():\n",
    "        m_gen = Generator()\n",
    "        p_gen = Generator()\n",
    "        m_disc = Discriminator()\n",
    "        p_disc = Discriminator()\n",
    "\n",
    "        m_gen_opt  = tf.keras.optimizers.Adam(1.5e-4, beta_1=0.5)\n",
    "        p_gen_opt  = tf.keras.optimizers.Adam(1.5e-4, beta_1=0.5)\n",
    "        m_disc_opt = tf.keras.optimizers.Adam(1.5e-4, beta_1=0.5)\n",
    "        p_disc_opt = tf.keras.optimizers.Adam(1.5e-4, beta_1=0.5)\n",
    "\n",
    "        cyclegan = CycleGan(m_gen, p_gen, m_disc, p_disc, vgg_feature_extractor=vgg_feature_extractor)\n",
    "        cyclegan.compile(\n",
    "            m_gen_optimizer=m_gen_opt, p_gen_optimizer=p_gen_opt,\n",
    "            m_disc_optimizer=m_disc_opt, p_disc_optimizer=p_disc_opt,\n",
    "            gen_loss_fn=generator_loss, disc_loss_fn=discriminator_loss,\n",
    "            cycle_loss_fn=calc_cycle_loss, identity_loss_fn=identity_loss,\n",
    "            perceptual_loss_fn = perceptual_loss,\n",
    "            lsgan_gen_loss_fn = lsgan_generator_loss,\n",
    "            lsgan_disc_loss_fn = lsgan_discriminator_loss\n",
    "        )\n",
    "\n",
    "    avg_cb = EpochAverageLogs(keys=[\n",
    "        \"monet_gen_loss\", \"photo_gen_loss\",\n",
    "        \"monet_disc_loss\", \"photo_disc_loss\"\n",
    "    ])\n",
    "\n",
    "    csv_logger = tf.keras.callbacks.CSVLogger(str(outdir / \"training_log.csv\"))\n",
    "    ckpt_cb = tf.keras.callbacks.ModelCheckpoint(\n",
    "        filepath=str(outdir / \"ckpts\" / \"weights_epoch{epoch:03d}.weights.h5\"),\n",
    "        save_weights_only=True,\n",
    "        save_best_only=False\n",
    "    )\n",
    "\n",
    "    cyclegan.fit(\n",
    "        tf.data.Dataset.zip((monet_ds, photo_ds)),\n",
    "        epochs=epochs,\n",
    "        callbacks=[avg_cb, csv_logger, ckpt_cb]\n",
    "    )\n",
    "\n",
    "    dummy = tf.zeros((1, 256, 256, 3))\n",
    "    _ = m_gen(dummy); _ = p_gen(dummy); _ = m_disc(dummy); _ = p_disc(dummy)\n",
    "\n",
    "    m_gen.save_weights(str(outdir / \"m_gen_weights.weights.h5\"))\n",
    "    p_gen.save_weights(str(outdir / \"p_gen_weights.weights.h5\"))\n",
    "    m_disc.save_weights(str(outdir / \"m_disc_weights.weights.h5\"))\n",
    "    p_disc.save_weights(str(outdir / \"p_disc_weights.weights.h5\"))\n",
    "\n",
    "    ckpt = tf.train.Checkpoint(\n",
    "        m_gen=m_gen, p_gen=p_gen, m_disc=m_disc, p_disc=p_disc,\n",
    "        m_gen_opt=m_gen_opt, p_gen_opt=p_gen_opt,\n",
    "        m_disc_opt=m_disc_opt, p_disc_opt=p_disc_opt\n",
    "    )\n",
    "    ckpt_path = ckpt.save(str(outdir / \"ckpts\" / \"ckpt\"))\n",
    "    print(\"Saved checkpoint:\", ckpt_path)\n",
    "\n",
    "    export_ds = load_dataset(photo_files, with_name=True)\n",
    "    export_ds = export_ds.map(\n",
    "        lambda img, name: (preprocess_photo_to_monet(img), name),\n",
    "        num_parallel_calls=tf.data.AUTOTUNE\n",
    "    ).batch(1).prefetch(tf.data.AUTOTUNE)\n",
    "\n",
    "    gen_dir = outdir / \"generated_full\"\n",
    "    gen_dir.mkdir(exist_ok=True)\n",
    "\n",
    "    for img, name in export_ds:\n",
    "        pred = m_gen(img, training=False)[0].numpy()\n",
    "        pred_u8 = ((pred * 127.5) + 127.5).clip(0, 255).astype(np.uint8)\n",
    "\n",
    "        raw_name = name.numpy()[0].decode(\"utf-8\")\n",
    "        default_ext = pick_default_ext(pred_u8)\n",
    "        safe_name = sanitize_fname(raw_name, default_ext)\n",
    "        save_path = gen_dir / safe_name\n",
    "\n",
    "        img_pil = Image.fromarray(pred_u8 if pred_u8.ndim == 2 or pred_u8.shape[-1] != 1\n",
    "                                  else pred_u8.squeeze(-1))\n",
    "\n",
    "        ext = save_path.suffix.lower()\n",
    "        if ext in {\".jpg\", \".jpeg\"} and img_pil.mode != \"RGB\":\n",
    "            img_pil = img_pil.convert(\"RGB\")\n",
    "\n",
    "        fmt = \"JPEG\" if ext in {\".jpg\", \".jpeg\"} else \"PNG\" if ext == \".png\" else None\n",
    "        img_pil.save(save_path, format=fmt)\n",
    "\n",
    "    return outdir"
   ]
  },
  {
   "cell_type": "code",
   "execution_count": 23,
   "metadata": {},
   "outputs": [
    {
     "name": "stdout",
     "output_type": "stream",
     "text": [
      "\n",
      "=== Training seed 42 ===\n",
      "Outputs -> ./experiments/seed_0042\n",
      "Epoch 1/50\n"
     ]
    },
    {
     "name": "stderr",
     "output_type": "stream",
     "text": [
      "2025-08-19 12:30:57.231175: I tensorflow/stream_executor/cuda/cuda_dnn.cc:369] Loaded cuDNN version 8907\n"
     ]
    },
    {
     "name": "stdout",
     "output_type": "stream",
     "text": [
      "300/300 [==============================] - 68s 118ms/step - monet_gen_loss: 5.8748 - photo_gen_loss: 5.9385 - monet_disc_loss: 0.7568 - photo_disc_loss: 0.7673\n",
      "Epoch 2/50\n",
      "300/300 [==============================] - 37s 120ms/step - monet_gen_loss: 4.0887 - photo_gen_loss: 4.2961 - monet_disc_loss: 0.8135 - photo_disc_loss: 0.7516\n",
      "Epoch 3/50\n",
      "300/300 [==============================] - 37s 120ms/step - monet_gen_loss: 3.8432 - photo_gen_loss: 3.8880 - monet_disc_loss: 0.7621 - photo_disc_loss: 0.7765\n",
      "Epoch 4/50\n",
      "300/300 [==============================] - 37s 120ms/step - monet_gen_loss: 3.6323 - photo_gen_loss: 3.6456 - monet_disc_loss: 0.7655 - photo_disc_loss: 0.7317\n",
      "Epoch 5/50\n",
      "300/300 [==============================] - 37s 120ms/step - monet_gen_loss: 3.3458 - photo_gen_loss: 3.3166 - monet_disc_loss: 0.7734 - photo_disc_loss: 0.7780\n",
      "Epoch 6/50\n",
      "300/300 [==============================] - 37s 120ms/step - monet_gen_loss: 3.0935 - photo_gen_loss: 3.0449 - monet_disc_loss: 0.7652 - photo_disc_loss: 0.7786\n",
      "Epoch 7/50\n",
      "300/300 [==============================] - 37s 120ms/step - monet_gen_loss: 2.9061 - photo_gen_loss: 2.9639 - monet_disc_loss: 0.7749 - photo_disc_loss: 0.7615\n",
      "Epoch 8/50\n",
      "300/300 [==============================] - 37s 120ms/step - monet_gen_loss: 2.8884 - photo_gen_loss: 2.9772 - monet_disc_loss: 0.7613 - photo_disc_loss: 0.7520\n",
      "Epoch 9/50\n",
      "300/300 [==============================] - 37s 120ms/step - monet_gen_loss: 2.8111 - photo_gen_loss: 2.8679 - monet_disc_loss: 0.7757 - photo_disc_loss: 0.7783\n",
      "Epoch 10/50\n",
      "300/300 [==============================] - 37s 120ms/step - monet_gen_loss: 2.8426 - photo_gen_loss: 2.8492 - monet_disc_loss: 0.7562 - photo_disc_loss: 0.7592\n",
      "Epoch 11/50\n",
      "300/300 [==============================] - 37s 120ms/step - monet_gen_loss: 2.7733 - photo_gen_loss: 2.8020 - monet_disc_loss: 0.7738 - photo_disc_loss: 0.7668\n",
      "Epoch 12/50\n",
      "300/300 [==============================] - 37s 120ms/step - monet_gen_loss: 2.7284 - photo_gen_loss: 2.7219 - monet_disc_loss: 0.7726 - photo_disc_loss: 0.7781\n",
      "Epoch 13/50\n",
      "300/300 [==============================] - 37s 120ms/step - monet_gen_loss: 2.7354 - photo_gen_loss: 2.7211 - monet_disc_loss: 0.7668 - photo_disc_loss: 0.7704\n",
      "Epoch 14/50\n",
      "300/300 [==============================] - 37s 120ms/step - monet_gen_loss: 2.7121 - photo_gen_loss: 2.7095 - monet_disc_loss: 0.7723 - photo_disc_loss: 0.7660\n",
      "Epoch 15/50\n",
      "300/300 [==============================] - 37s 120ms/step - monet_gen_loss: 2.6773 - photo_gen_loss: 2.6530 - monet_disc_loss: 0.7695 - photo_disc_loss: 0.7642\n",
      "Epoch 16/50\n",
      "300/300 [==============================] - 37s 120ms/step - monet_gen_loss: 2.6918 - photo_gen_loss: 2.6359 - monet_disc_loss: 0.7706 - photo_disc_loss: 0.7625\n",
      "Epoch 17/50\n",
      "300/300 [==============================] - 37s 120ms/step - monet_gen_loss: 2.7158 - photo_gen_loss: 2.6630 - monet_disc_loss: 0.7637 - photo_disc_loss: 0.7582\n",
      "Epoch 18/50\n",
      "300/300 [==============================] - 37s 120ms/step - monet_gen_loss: 2.6895 - photo_gen_loss: 2.6333 - monet_disc_loss: 0.7655 - photo_disc_loss: 0.7680\n",
      "Epoch 19/50\n",
      "300/300 [==============================] - 37s 120ms/step - monet_gen_loss: 2.7183 - photo_gen_loss: 2.6502 - monet_disc_loss: 0.7540 - photo_disc_loss: 0.7590\n",
      "Epoch 20/50\n",
      "300/300 [==============================] - 37s 120ms/step - monet_gen_loss: 2.7881 - photo_gen_loss: 2.6749 - monet_disc_loss: 0.7532 - photo_disc_loss: 0.7561\n",
      "Epoch 21/50\n",
      "300/300 [==============================] - 37s 120ms/step - monet_gen_loss: 2.7659 - photo_gen_loss: 2.6386 - monet_disc_loss: 0.7568 - photo_disc_loss: 0.7563\n",
      "Epoch 22/50\n",
      "300/300 [==============================] - 37s 120ms/step - monet_gen_loss: 2.8032 - photo_gen_loss: 2.6878 - monet_disc_loss: 0.7602 - photo_disc_loss: 0.7603\n",
      "Epoch 23/50\n",
      "300/300 [==============================] - 37s 120ms/step - monet_gen_loss: 2.7487 - photo_gen_loss: 2.6448 - monet_disc_loss: 0.7609 - photo_disc_loss: 0.7569\n",
      "Epoch 24/50\n",
      "300/300 [==============================] - 37s 120ms/step - monet_gen_loss: 2.8088 - photo_gen_loss: 2.7143 - monet_disc_loss: 0.7644 - photo_disc_loss: 0.7498\n",
      "Epoch 25/50\n",
      "300/300 [==============================] - 37s 120ms/step - monet_gen_loss: 2.7882 - photo_gen_loss: 2.6703 - monet_disc_loss: 0.7682 - photo_disc_loss: 0.7656\n",
      "Epoch 26/50\n",
      "300/300 [==============================] - 37s 120ms/step - monet_gen_loss: 2.7784 - photo_gen_loss: 2.6810 - monet_disc_loss: 0.7676 - photo_disc_loss: 0.7534\n",
      "Epoch 27/50\n",
      "300/300 [==============================] - 37s 120ms/step - monet_gen_loss: 2.7788 - photo_gen_loss: 2.6937 - monet_disc_loss: 0.7742 - photo_disc_loss: 0.7632\n",
      "Epoch 28/50\n",
      "300/300 [==============================] - 37s 120ms/step - monet_gen_loss: 2.7991 - photo_gen_loss: 2.6841 - monet_disc_loss: 0.7600 - photo_disc_loss: 0.7569\n",
      "Epoch 29/50\n",
      "300/300 [==============================] - 38s 120ms/step - monet_gen_loss: 2.8267 - photo_gen_loss: 2.7177 - monet_disc_loss: 0.7620 - photo_disc_loss: 0.7529\n",
      "Epoch 30/50\n",
      "300/300 [==============================] - 37s 120ms/step - monet_gen_loss: 2.7833 - photo_gen_loss: 2.6618 - monet_disc_loss: 0.7660 - photo_disc_loss: 0.7618\n",
      "Epoch 31/50\n",
      "300/300 [==============================] - 37s 120ms/step - monet_gen_loss: 2.8244 - photo_gen_loss: 2.7296 - monet_disc_loss: 0.7516 - photo_disc_loss: 0.7505\n",
      "Epoch 32/50\n",
      "300/300 [==============================] - 37s 120ms/step - monet_gen_loss: 2.8304 - photo_gen_loss: 2.7263 - monet_disc_loss: 0.7579 - photo_disc_loss: 0.7582\n",
      "Epoch 33/50\n",
      "300/300 [==============================] - 37s 120ms/step - monet_gen_loss: 2.9059 - photo_gen_loss: 2.7478 - monet_disc_loss: 0.7529 - photo_disc_loss: 0.7469\n",
      "Epoch 34/50\n",
      "300/300 [==============================] - 37s 120ms/step - monet_gen_loss: 2.8905 - photo_gen_loss: 2.7454 - monet_disc_loss: 0.7370 - photo_disc_loss: 0.7481\n",
      "Epoch 35/50\n",
      "300/300 [==============================] - 37s 120ms/step - monet_gen_loss: 2.9047 - photo_gen_loss: 2.7676 - monet_disc_loss: 0.7429 - photo_disc_loss: 0.7395\n",
      "Epoch 36/50\n",
      "300/300 [==============================] - 37s 120ms/step - monet_gen_loss: 2.9365 - photo_gen_loss: 2.7736 - monet_disc_loss: 0.7419 - photo_disc_loss: 0.7434\n",
      "Epoch 37/50\n",
      "300/300 [==============================] - 37s 120ms/step - monet_gen_loss: 2.9249 - photo_gen_loss: 2.7685 - monet_disc_loss: 0.7336 - photo_disc_loss: 0.7426\n",
      "Epoch 38/50\n",
      "300/300 [==============================] - 37s 120ms/step - monet_gen_loss: 2.9537 - photo_gen_loss: 2.8059 - monet_disc_loss: 0.7333 - photo_disc_loss: 0.7394\n",
      "Epoch 39/50\n",
      "300/300 [==============================] - 37s 120ms/step - monet_gen_loss: 3.0331 - photo_gen_loss: 2.8607 - monet_disc_loss: 0.7243 - photo_disc_loss: 0.7361\n",
      "Epoch 40/50\n",
      "300/300 [==============================] - 37s 120ms/step - monet_gen_loss: 3.0759 - photo_gen_loss: 2.8992 - monet_disc_loss: 0.7176 - photo_disc_loss: 0.7275\n",
      "Epoch 41/50\n",
      "300/300 [==============================] - 37s 120ms/step - monet_gen_loss: 3.0926 - photo_gen_loss: 2.9158 - monet_disc_loss: 0.7093 - photo_disc_loss: 0.7169\n",
      "Epoch 42/50\n",
      "300/300 [==============================] - 37s 120ms/step - monet_gen_loss: 3.1742 - photo_gen_loss: 2.9430 - monet_disc_loss: 0.7026 - photo_disc_loss: 0.7284\n",
      "Epoch 43/50\n",
      "300/300 [==============================] - 37s 120ms/step - monet_gen_loss: 3.1971 - photo_gen_loss: 2.9285 - monet_disc_loss: 0.7001 - photo_disc_loss: 0.7260\n",
      "Epoch 44/50\n",
      "300/300 [==============================] - 37s 120ms/step - monet_gen_loss: 3.2883 - photo_gen_loss: 3.0478 - monet_disc_loss: 0.6881 - photo_disc_loss: 0.7196\n",
      "Epoch 45/50\n",
      "300/300 [==============================] - 37s 120ms/step - monet_gen_loss: 3.3158 - photo_gen_loss: 3.0290 - monet_disc_loss: 0.6818 - photo_disc_loss: 0.7121\n",
      "Epoch 46/50\n",
      "300/300 [==============================] - 37s 120ms/step - monet_gen_loss: 3.3913 - photo_gen_loss: 3.0977 - monet_disc_loss: 0.6704 - photo_disc_loss: 0.7036\n",
      "Epoch 47/50\n",
      "300/300 [==============================] - 37s 120ms/step - monet_gen_loss: 3.4549 - photo_gen_loss: 3.1531 - monet_disc_loss: 0.6661 - photo_disc_loss: 0.7148\n",
      "Epoch 48/50\n",
      "300/300 [==============================] - 37s 120ms/step - monet_gen_loss: 3.4921 - photo_gen_loss: 3.1379 - monet_disc_loss: 0.6528 - photo_disc_loss: 0.7074\n",
      "Epoch 49/50\n",
      "300/300 [==============================] - 37s 120ms/step - monet_gen_loss: 3.6053 - photo_gen_loss: 3.2512 - monet_disc_loss: 0.6437 - photo_disc_loss: 0.6924\n",
      "Epoch 50/50\n",
      "300/300 [==============================] - 37s 120ms/step - monet_gen_loss: 3.6455 - photo_gen_loss: 3.2575 - monet_disc_loss: 0.6412 - photo_disc_loss: 0.6948\n",
      "Saved checkpoint: ./experiments/seed_0042/ckpts/ckpt-1\n",
      "\n",
      "=== Training seed 17 ===\n",
      "Outputs -> ./experiments/seed_0017\n",
      "Epoch 1/50\n",
      "300/300 [==============================] - 68s 119ms/step - monet_gen_loss: 5.6433 - photo_gen_loss: 5.8736 - monet_disc_loss: 0.8125 - photo_disc_loss: 0.7906\n",
      "Epoch 2/50\n",
      "300/300 [==============================] - 37s 121ms/step - monet_gen_loss: 3.8073 - photo_gen_loss: 3.8620 - monet_disc_loss: 0.8330 - photo_disc_loss: 0.8237\n",
      "Epoch 3/50\n",
      "300/300 [==============================] - 37s 120ms/step - monet_gen_loss: 3.4038 - photo_gen_loss: 3.4358 - monet_disc_loss: 0.8210 - photo_disc_loss: 0.8121\n",
      "Epoch 4/50\n",
      "300/300 [==============================] - 37s 120ms/step - monet_gen_loss: 3.1852 - photo_gen_loss: 3.1980 - monet_disc_loss: 0.8112 - photo_disc_loss: 0.8162\n",
      "Epoch 5/50\n",
      "300/300 [==============================] - 37s 120ms/step - monet_gen_loss: 3.0084 - photo_gen_loss: 2.9963 - monet_disc_loss: 0.7943 - photo_disc_loss: 0.8016\n",
      "Epoch 6/50\n",
      "300/300 [==============================] - 38s 123ms/step - monet_gen_loss: 2.9225 - photo_gen_loss: 2.8681 - monet_disc_loss: 0.7784 - photo_disc_loss: 0.7972\n",
      "Epoch 7/50\n",
      "300/300 [==============================] - 38s 123ms/step - monet_gen_loss: 2.8612 - photo_gen_loss: 2.7938 - monet_disc_loss: 0.7817 - photo_disc_loss: 0.7913\n",
      "Epoch 8/50\n",
      "300/300 [==============================] - 38s 123ms/step - monet_gen_loss: 2.7816 - photo_gen_loss: 2.7108 - monet_disc_loss: 0.7782 - photo_disc_loss: 0.7862\n",
      "Epoch 9/50\n",
      "300/300 [==============================] - 38s 121ms/step - monet_gen_loss: 2.7758 - photo_gen_loss: 2.6479 - monet_disc_loss: 0.7717 - photo_disc_loss: 0.7985\n",
      "Epoch 10/50\n",
      "300/300 [==============================] - 38s 121ms/step - monet_gen_loss: 2.7505 - photo_gen_loss: 2.6154 - monet_disc_loss: 0.7714 - photo_disc_loss: 0.7915\n",
      "Epoch 11/50\n",
      "300/300 [==============================] - 38s 121ms/step - monet_gen_loss: 2.7414 - photo_gen_loss: 2.6187 - monet_disc_loss: 0.7722 - photo_disc_loss: 0.7883\n",
      "Epoch 12/50\n",
      "300/300 [==============================] - 38s 121ms/step - monet_gen_loss: 2.7787 - photo_gen_loss: 2.6208 - monet_disc_loss: 0.7591 - photo_disc_loss: 0.7875\n",
      "Epoch 13/50\n",
      "300/300 [==============================] - 38s 121ms/step - monet_gen_loss: 2.7559 - photo_gen_loss: 2.6179 - monet_disc_loss: 0.7681 - photo_disc_loss: 0.7764\n",
      "Epoch 14/50\n",
      "300/300 [==============================] - 37s 121ms/step - monet_gen_loss: 2.7479 - photo_gen_loss: 2.5997 - monet_disc_loss: 0.7728 - photo_disc_loss: 0.7864\n",
      "Epoch 15/50\n",
      "300/300 [==============================] - 37s 121ms/step - monet_gen_loss: 2.7481 - photo_gen_loss: 2.5944 - monet_disc_loss: 0.7631 - photo_disc_loss: 0.7709\n",
      "Epoch 16/50\n",
      "300/300 [==============================] - 38s 121ms/step - monet_gen_loss: 2.8013 - photo_gen_loss: 2.6982 - monet_disc_loss: 0.7711 - photo_disc_loss: 0.7665\n",
      "Epoch 17/50\n",
      "300/300 [==============================] - 38s 121ms/step - monet_gen_loss: 2.8071 - photo_gen_loss: 2.6387 - monet_disc_loss: 0.7635 - photo_disc_loss: 0.7744\n",
      "Epoch 18/50\n",
      "300/300 [==============================] - 38s 121ms/step - monet_gen_loss: 2.7771 - photo_gen_loss: 2.6364 - monet_disc_loss: 0.7721 - photo_disc_loss: 0.7729\n",
      "Epoch 19/50\n",
      "300/300 [==============================] - 38s 121ms/step - monet_gen_loss: 2.7574 - photo_gen_loss: 2.6260 - monet_disc_loss: 0.7672 - photo_disc_loss: 0.7697\n",
      "Epoch 20/50\n",
      "300/300 [==============================] - 38s 121ms/step - monet_gen_loss: 2.7811 - photo_gen_loss: 2.6445 - monet_disc_loss: 0.7758 - photo_disc_loss: 0.7826\n",
      "Epoch 21/50\n",
      "300/300 [==============================] - 38s 121ms/step - monet_gen_loss: 2.7961 - photo_gen_loss: 2.6490 - monet_disc_loss: 0.7681 - photo_disc_loss: 0.7678\n",
      "Epoch 22/50\n",
      "300/300 [==============================] - 38s 121ms/step - monet_gen_loss: 2.7424 - photo_gen_loss: 2.5876 - monet_disc_loss: 0.7728 - photo_disc_loss: 0.7777\n",
      "Epoch 23/50\n",
      "300/300 [==============================] - 38s 121ms/step - monet_gen_loss: 2.7321 - photo_gen_loss: 2.5886 - monet_disc_loss: 0.7762 - photo_disc_loss: 0.7702\n",
      "Epoch 24/50\n",
      "300/300 [==============================] - 37s 121ms/step - monet_gen_loss: 2.7222 - photo_gen_loss: 2.6000 - monet_disc_loss: 0.7754 - photo_disc_loss: 0.7708\n",
      "Epoch 25/50\n",
      "300/300 [==============================] - 37s 120ms/step - monet_gen_loss: 2.7878 - photo_gen_loss: 2.6174 - monet_disc_loss: 0.7795 - photo_disc_loss: 0.7740\n",
      "Epoch 26/50\n",
      "300/300 [==============================] - 37s 119ms/step - monet_gen_loss: 2.7985 - photo_gen_loss: 2.6507 - monet_disc_loss: 0.7692 - photo_disc_loss: 0.7607\n",
      "Epoch 27/50\n",
      "300/300 [==============================] - 37s 119ms/step - monet_gen_loss: 2.7718 - photo_gen_loss: 2.6326 - monet_disc_loss: 0.7726 - photo_disc_loss: 0.7618\n",
      "Epoch 28/50\n",
      "300/300 [==============================] - 37s 119ms/step - monet_gen_loss: 2.7468 - photo_gen_loss: 2.5977 - monet_disc_loss: 0.7757 - photo_disc_loss: 0.7763\n",
      "Epoch 29/50\n",
      "300/300 [==============================] - 37s 119ms/step - monet_gen_loss: 2.7609 - photo_gen_loss: 2.6168 - monet_disc_loss: 0.7768 - photo_disc_loss: 0.7671\n",
      "Epoch 30/50\n",
      "300/300 [==============================] - 37s 119ms/step - monet_gen_loss: 2.7855 - photo_gen_loss: 2.6117 - monet_disc_loss: 0.7753 - photo_disc_loss: 0.7668\n",
      "Epoch 31/50\n",
      "300/300 [==============================] - 37s 119ms/step - monet_gen_loss: 2.8330 - photo_gen_loss: 2.6476 - monet_disc_loss: 0.7585 - photo_disc_loss: 0.7585\n",
      "Epoch 32/50\n",
      "300/300 [==============================] - 37s 119ms/step - monet_gen_loss: 2.7693 - photo_gen_loss: 2.5785 - monet_disc_loss: 0.7768 - photo_disc_loss: 0.7735\n",
      "Epoch 33/50\n",
      "300/300 [==============================] - 37s 119ms/step - monet_gen_loss: 2.7574 - photo_gen_loss: 2.6119 - monet_disc_loss: 0.7717 - photo_disc_loss: 0.7626\n",
      "Epoch 34/50\n",
      "300/300 [==============================] - 37s 119ms/step - monet_gen_loss: 2.7980 - photo_gen_loss: 2.6157 - monet_disc_loss: 0.7610 - photo_disc_loss: 0.7645\n",
      "Epoch 35/50\n",
      "300/300 [==============================] - 37s 119ms/step - monet_gen_loss: 2.7751 - photo_gen_loss: 2.5772 - monet_disc_loss: 0.7708 - photo_disc_loss: 0.7752\n",
      "Epoch 36/50\n",
      "300/300 [==============================] - 37s 119ms/step - monet_gen_loss: 2.8189 - photo_gen_loss: 2.6062 - monet_disc_loss: 0.7534 - photo_disc_loss: 0.7569\n",
      "Epoch 37/50\n",
      "300/300 [==============================] - 37s 119ms/step - monet_gen_loss: 2.8143 - photo_gen_loss: 2.5814 - monet_disc_loss: 0.7548 - photo_disc_loss: 0.7727\n",
      "Epoch 38/50\n",
      "300/300 [==============================] - 37s 119ms/step - monet_gen_loss: 2.8364 - photo_gen_loss: 2.6142 - monet_disc_loss: 0.7503 - photo_disc_loss: 0.7590\n",
      "Epoch 39/50\n",
      "300/300 [==============================] - 37s 119ms/step - monet_gen_loss: 2.8762 - photo_gen_loss: 2.6320 - monet_disc_loss: 0.7548 - photo_disc_loss: 0.7702\n",
      "Epoch 40/50\n",
      "300/300 [==============================] - 37s 119ms/step - monet_gen_loss: 2.8417 - photo_gen_loss: 2.5762 - monet_disc_loss: 0.7482 - photo_disc_loss: 0.7664\n",
      "Epoch 41/50\n",
      "300/300 [==============================] - 37s 119ms/step - monet_gen_loss: 2.8901 - photo_gen_loss: 2.6204 - monet_disc_loss: 0.7424 - photo_disc_loss: 0.7652\n",
      "Epoch 42/50\n",
      "300/300 [==============================] - 37s 119ms/step - monet_gen_loss: 2.9928 - photo_gen_loss: 2.6789 - monet_disc_loss: 0.7287 - photo_disc_loss: 0.7637\n",
      "Epoch 43/50\n",
      "300/300 [==============================] - 37s 119ms/step - monet_gen_loss: 3.0420 - photo_gen_loss: 2.7159 - monet_disc_loss: 0.7322 - photo_disc_loss: 0.7558\n",
      "Epoch 44/50\n",
      "300/300 [==============================] - 37s 119ms/step - monet_gen_loss: 3.0270 - photo_gen_loss: 2.6926 - monet_disc_loss: 0.7203 - photo_disc_loss: 0.7643\n",
      "Epoch 45/50\n",
      "300/300 [==============================] - 37s 121ms/step - monet_gen_loss: 3.0506 - photo_gen_loss: 2.6932 - monet_disc_loss: 0.7172 - photo_disc_loss: 0.7592\n",
      "Epoch 46/50\n",
      "300/300 [==============================] - 37s 121ms/step - monet_gen_loss: 3.1157 - photo_gen_loss: 2.7191 - monet_disc_loss: 0.7153 - photo_disc_loss: 0.7532\n",
      "Epoch 47/50\n",
      "300/300 [==============================] - 37s 121ms/step - monet_gen_loss: 3.1260 - photo_gen_loss: 2.6992 - monet_disc_loss: 0.6994 - photo_disc_loss: 0.7593\n",
      "Epoch 48/50\n",
      "300/300 [==============================] - 38s 121ms/step - monet_gen_loss: 3.1679 - photo_gen_loss: 2.7576 - monet_disc_loss: 0.7032 - photo_disc_loss: 0.7565\n",
      "Epoch 49/50\n",
      "300/300 [==============================] - 38s 121ms/step - monet_gen_loss: 3.2178 - photo_gen_loss: 2.7782 - monet_disc_loss: 0.7016 - photo_disc_loss: 0.7536\n",
      "Epoch 50/50\n",
      "300/300 [==============================] - 38s 121ms/step - monet_gen_loss: 3.1983 - photo_gen_loss: 2.7141 - monet_disc_loss: 0.6917 - photo_disc_loss: 0.7663\n",
      "Saved checkpoint: ./experiments/seed_0017/ckpts/ckpt-1\n",
      "\n",
      "=== Training seed 29 ===\n",
      "Outputs -> ./experiments/seed_0029\n",
      "Epoch 1/50\n",
      "300/300 [==============================] - 65s 120ms/step - monet_gen_loss: 5.7748 - photo_gen_loss: 5.8811 - monet_disc_loss: 0.7791 - photo_disc_loss: 0.7752\n",
      "Epoch 2/50\n",
      "300/300 [==============================] - 38s 121ms/step - monet_gen_loss: 3.8836 - photo_gen_loss: 4.0763 - monet_disc_loss: 0.8331 - photo_disc_loss: 0.7765\n",
      "Epoch 3/50\n",
      "300/300 [==============================] - 38s 122ms/step - monet_gen_loss: 3.5366 - photo_gen_loss: 3.6370 - monet_disc_loss: 0.8133 - photo_disc_loss: 0.7976\n",
      "Epoch 4/50\n",
      "300/300 [==============================] - 38s 122ms/step - monet_gen_loss: 3.2694 - photo_gen_loss: 3.4040 - monet_disc_loss: 0.7998 - photo_disc_loss: 0.7734\n",
      "Epoch 5/50\n",
      "300/300 [==============================] - 38s 121ms/step - monet_gen_loss: 3.0726 - photo_gen_loss: 3.1405 - monet_disc_loss: 0.7924 - photo_disc_loss: 0.7917\n",
      "Epoch 6/50\n",
      "300/300 [==============================] - 38s 122ms/step - monet_gen_loss: 2.9296 - photo_gen_loss: 2.9439 - monet_disc_loss: 0.7893 - photo_disc_loss: 0.7949\n",
      "Epoch 7/50\n",
      "300/300 [==============================] - 38s 121ms/step - monet_gen_loss: 2.7992 - photo_gen_loss: 2.8684 - monet_disc_loss: 0.7975 - photo_disc_loss: 0.7854\n",
      "Epoch 8/50\n",
      "300/300 [==============================] - 38s 122ms/step - monet_gen_loss: 2.7514 - photo_gen_loss: 2.7850 - monet_disc_loss: 0.7863 - photo_disc_loss: 0.7913\n",
      "Epoch 9/50\n",
      "300/300 [==============================] - 38s 121ms/step - monet_gen_loss: 2.7302 - photo_gen_loss: 2.7677 - monet_disc_loss: 0.7780 - photo_disc_loss: 0.7806\n",
      "Epoch 10/50\n",
      "300/300 [==============================] - 38s 121ms/step - monet_gen_loss: 2.7138 - photo_gen_loss: 2.7494 - monet_disc_loss: 0.7721 - photo_disc_loss: 0.7740\n",
      "Epoch 11/50\n",
      "300/300 [==============================] - 38s 121ms/step - monet_gen_loss: 2.7142 - photo_gen_loss: 2.6837 - monet_disc_loss: 0.7591 - photo_disc_loss: 0.7824\n",
      "Epoch 12/50\n",
      "300/300 [==============================] - 38s 122ms/step - monet_gen_loss: 2.6889 - photo_gen_loss: 2.6603 - monet_disc_loss: 0.7637 - photo_disc_loss: 0.7790\n",
      "Epoch 13/50\n",
      "300/300 [==============================] - 38s 121ms/step - monet_gen_loss: 2.7112 - photo_gen_loss: 2.6526 - monet_disc_loss: 0.7602 - photo_disc_loss: 0.7888\n",
      "Epoch 14/50\n",
      "300/300 [==============================] - 38s 121ms/step - monet_gen_loss: 2.6816 - photo_gen_loss: 2.6209 - monet_disc_loss: 0.7650 - photo_disc_loss: 0.7813\n",
      "Epoch 15/50\n",
      "300/300 [==============================] - 38s 122ms/step - monet_gen_loss: 2.7118 - photo_gen_loss: 2.6299 - monet_disc_loss: 0.7640 - photo_disc_loss: 0.7777\n",
      "Epoch 16/50\n",
      "300/300 [==============================] - 38s 122ms/step - monet_gen_loss: 2.6893 - photo_gen_loss: 2.5999 - monet_disc_loss: 0.7720 - photo_disc_loss: 0.7778\n",
      "Epoch 17/50\n",
      "300/300 [==============================] - 38s 121ms/step - monet_gen_loss: 2.7179 - photo_gen_loss: 2.6234 - monet_disc_loss: 0.7606 - photo_disc_loss: 0.7772\n",
      "Epoch 18/50\n",
      "300/300 [==============================] - 38s 122ms/step - monet_gen_loss: 2.7173 - photo_gen_loss: 2.6075 - monet_disc_loss: 0.7680 - photo_disc_loss: 0.7772\n",
      "Epoch 19/50\n",
      "300/300 [==============================] - 38s 122ms/step - monet_gen_loss: 2.6786 - photo_gen_loss: 2.5666 - monet_disc_loss: 0.7668 - photo_disc_loss: 0.7696\n",
      "Epoch 20/50\n",
      "300/300 [==============================] - 38s 121ms/step - monet_gen_loss: 2.7123 - photo_gen_loss: 2.6184 - monet_disc_loss: 0.7693 - photo_disc_loss: 0.7677\n",
      "Epoch 21/50\n",
      "300/300 [==============================] - 38s 121ms/step - monet_gen_loss: 2.7329 - photo_gen_loss: 2.6094 - monet_disc_loss: 0.7599 - photo_disc_loss: 0.7570\n",
      "Epoch 22/50\n",
      "300/300 [==============================] - 38s 121ms/step - monet_gen_loss: 2.6582 - photo_gen_loss: 2.5879 - monet_disc_loss: 0.7742 - photo_disc_loss: 0.7671\n",
      "Epoch 23/50\n",
      "300/300 [==============================] - 38s 121ms/step - monet_gen_loss: 2.7172 - photo_gen_loss: 2.6164 - monet_disc_loss: 0.7732 - photo_disc_loss: 0.7613\n",
      "Epoch 24/50\n",
      "300/300 [==============================] - 38s 121ms/step - monet_gen_loss: 2.7391 - photo_gen_loss: 2.6328 - monet_disc_loss: 0.7681 - photo_disc_loss: 0.7626\n",
      "Epoch 25/50\n",
      "300/300 [==============================] - 38s 121ms/step - monet_gen_loss: 2.7380 - photo_gen_loss: 2.6254 - monet_disc_loss: 0.7695 - photo_disc_loss: 0.7640\n",
      "Epoch 26/50\n",
      "300/300 [==============================] - 38s 121ms/step - monet_gen_loss: 2.7364 - photo_gen_loss: 2.6330 - monet_disc_loss: 0.7765 - photo_disc_loss: 0.7673\n",
      "Epoch 27/50\n",
      "300/300 [==============================] - 38s 121ms/step - monet_gen_loss: 2.7723 - photo_gen_loss: 2.6462 - monet_disc_loss: 0.7620 - photo_disc_loss: 0.7629\n",
      "Epoch 28/50\n",
      "300/300 [==============================] - 38s 121ms/step - monet_gen_loss: 2.7379 - photo_gen_loss: 2.6120 - monet_disc_loss: 0.7660 - photo_disc_loss: 0.7657\n",
      "Epoch 29/50\n",
      "300/300 [==============================] - 38s 121ms/step - monet_gen_loss: 2.7870 - photo_gen_loss: 2.6509 - monet_disc_loss: 0.7617 - photo_disc_loss: 0.7577\n",
      "Epoch 30/50\n",
      "300/300 [==============================] - 38s 121ms/step - monet_gen_loss: 2.7568 - photo_gen_loss: 2.6352 - monet_disc_loss: 0.7661 - photo_disc_loss: 0.7599\n",
      "Epoch 31/50\n",
      "300/300 [==============================] - 38s 121ms/step - monet_gen_loss: 2.7250 - photo_gen_loss: 2.6237 - monet_disc_loss: 0.7697 - photo_disc_loss: 0.7582\n",
      "Epoch 32/50\n",
      "300/300 [==============================] - 38s 121ms/step - monet_gen_loss: 2.7851 - photo_gen_loss: 2.6754 - monet_disc_loss: 0.7637 - photo_disc_loss: 0.7598\n",
      "Epoch 33/50\n",
      "300/300 [==============================] - 38s 121ms/step - monet_gen_loss: 2.8096 - photo_gen_loss: 2.6780 - monet_disc_loss: 0.7577 - photo_disc_loss: 0.7512\n",
      "Epoch 34/50\n",
      "300/300 [==============================] - 38s 121ms/step - monet_gen_loss: 2.7780 - photo_gen_loss: 2.6424 - monet_disc_loss: 0.7572 - photo_disc_loss: 0.7547\n",
      "Epoch 35/50\n",
      "300/300 [==============================] - 38s 121ms/step - monet_gen_loss: 2.8070 - photo_gen_loss: 2.6851 - monet_disc_loss: 0.7561 - photo_disc_loss: 0.7590\n",
      "Epoch 36/50\n",
      "300/300 [==============================] - 38s 121ms/step - monet_gen_loss: 2.8213 - photo_gen_loss: 2.6774 - monet_disc_loss: 0.7520 - photo_disc_loss: 0.7571\n",
      "Epoch 37/50\n",
      "300/300 [==============================] - 38s 121ms/step - monet_gen_loss: 2.8846 - photo_gen_loss: 2.7585 - monet_disc_loss: 0.7422 - photo_disc_loss: 0.7371\n",
      "Epoch 38/50\n",
      "300/300 [==============================] - 38s 121ms/step - monet_gen_loss: 2.8481 - photo_gen_loss: 2.7013 - monet_disc_loss: 0.7535 - photo_disc_loss: 0.7636\n",
      "Epoch 39/50\n",
      "300/300 [==============================] - 38s 121ms/step - monet_gen_loss: 2.9369 - photo_gen_loss: 2.7642 - monet_disc_loss: 0.7367 - photo_disc_loss: 0.7415\n",
      "Epoch 40/50\n",
      "300/300 [==============================] - 38s 121ms/step - monet_gen_loss: 2.8669 - photo_gen_loss: 2.7099 - monet_disc_loss: 0.7469 - photo_disc_loss: 0.7517\n",
      "Epoch 41/50\n",
      "300/300 [==============================] - 38s 121ms/step - monet_gen_loss: 2.9302 - photo_gen_loss: 2.7629 - monet_disc_loss: 0.7297 - photo_disc_loss: 0.7473\n",
      "Epoch 42/50\n",
      "300/300 [==============================] - 38s 121ms/step - monet_gen_loss: 2.9703 - photo_gen_loss: 2.7918 - monet_disc_loss: 0.7270 - photo_disc_loss: 0.7376\n",
      "Epoch 43/50\n",
      "300/300 [==============================] - 38s 121ms/step - monet_gen_loss: 3.0161 - photo_gen_loss: 2.8401 - monet_disc_loss: 0.7367 - photo_disc_loss: 0.7389\n",
      "Epoch 44/50\n",
      "300/300 [==============================] - 38s 121ms/step - monet_gen_loss: 2.9905 - photo_gen_loss: 2.8067 - monet_disc_loss: 0.7335 - photo_disc_loss: 0.7488\n",
      "Epoch 45/50\n",
      "300/300 [==============================] - 38s 121ms/step - monet_gen_loss: 3.0088 - photo_gen_loss: 2.8121 - monet_disc_loss: 0.7195 - photo_disc_loss: 0.7367\n",
      "Epoch 46/50\n",
      "300/300 [==============================] - 38s 121ms/step - monet_gen_loss: 3.0612 - photo_gen_loss: 2.8402 - monet_disc_loss: 0.7215 - photo_disc_loss: 0.7390\n",
      "Epoch 47/50\n",
      "300/300 [==============================] - 38s 121ms/step - monet_gen_loss: 3.1727 - photo_gen_loss: 2.9578 - monet_disc_loss: 0.7093 - photo_disc_loss: 0.7252\n",
      "Epoch 48/50\n",
      "300/300 [==============================] - 38s 121ms/step - monet_gen_loss: 3.1538 - photo_gen_loss: 2.9135 - monet_disc_loss: 0.7095 - photo_disc_loss: 0.7386\n",
      "Epoch 49/50\n",
      "300/300 [==============================] - 38s 121ms/step - monet_gen_loss: 3.1809 - photo_gen_loss: 2.9384 - monet_disc_loss: 0.7014 - photo_disc_loss: 0.7315\n",
      "Epoch 50/50\n",
      "300/300 [==============================] - 38s 121ms/step - monet_gen_loss: 3.2169 - photo_gen_loss: 2.9566 - monet_disc_loss: 0.7011 - photo_disc_loss: 0.7298\n",
      "Saved checkpoint: ./experiments/seed_0029/ckpts/ckpt-1\n"
     ]
    }
   ],
   "source": [
    "OUTPUT_ROOT = \"./experiments\"\n",
    "SEEDS = [42, 17, 29]  \n",
    "EPOCHS = 50\n",
    "\n",
    "run_dirs = []\n",
    "for s in SEEDS:\n",
    "    run_dirs.append(run_training_once(seed=s, out_root=OUTPUT_ROOT, epochs=EPOCHS))\n"
   ]
  },
  {
   "cell_type": "markdown",
   "metadata": {},
   "source": [
    "# Test"
   ]
  },
  {
   "cell_type": "code",
   "execution_count": 24,
   "metadata": {},
   "outputs": [
    {
     "name": "stdout",
     "output_type": "stream",
     "text": [
      "[PosixPath('./experiments/seed_0017'), PosixPath('./experiments/seed_0029'), PosixPath('./experiments/seed_0042')]\n"
     ]
    }
   ],
   "source": [
    "OUTPUT_ROOT = \"./experiments\"\n",
    "\n",
    "# Collect all seed_xxxx folders inside OUTPUT_ROOT\n",
    "run_dirs = sorted(Path(OUTPUT_ROOT).glob(\"seed_*\"))\n",
    "print(run_dirs)  # confirm we got them"
   ]
  },
  {
   "cell_type": "code",
   "execution_count": 25,
   "metadata": {},
   "outputs": [
    {
     "data": {
      "image/png": "[encoded data removed]",
      "text/plain": [
       "<Figure size 600x400 with 1 Axes>"
      ]
     },
     "metadata": {},
     "output_type": "display_data"
    }
   ],
   "source": [
    "plt.figure(figsize=(6, 4))\n",
    "\n",
    "for rd in run_dirs:\n",
    "    csv_path = Path(rd) / \"training_log.csv\"\n",
    "    epochs, losses = [], []\n",
    "\n",
    "    with open(csv_path, newline=\"\") as f:\n",
    "        reader = csv.DictReader(f)\n",
    "        for row in reader:\n",
    "            epochs.append(int(row[\"epoch\"]) + 1)           \n",
    "            losses.append(float(row[\"monet_gen_loss\"]))    \n",
    "\n",
    "    plt.plot(epochs, losses, label=f\"{Path(rd).name} m_gen\")\n",
    "\n",
    "plt.xlabel(\"Epoch\")\n",
    "plt.ylabel(\"Loss\")\n",
    "plt.title(\"Monet generator loss\")\n",
    "plt.grid(True, alpha=0.3)\n",
    "plt.legend()\n",
    "plt.tight_layout()"
   ]
  },
  {
   "cell_type": "code",
   "execution_count": 26,
   "metadata": {},
   "outputs": [
    {
     "name": "stdout",
     "output_type": "stream",
     "text": [
      "[mifid] Exported 300 Monet images to ./monet_jpgs_for_eval\n",
      "\n",
      "MiFID results (sorted by MiFID):\n",
      "run                 FID          d      d_thr        MiFID\n",
      "seed_0042       86.7320     0.2475     1.0000      86.7320\n",
      "seed_0017       88.8719     0.2507     1.0000      88.8719\n",
      "seed_0029       91.9136     0.2526     1.0000      91.9136\n",
      "\n",
      "Summary across runs:\n",
      "metric           mean          std\n",
      "FID           89.1725       2.6039\n",
      "MiFID         89.1725       2.6039\n"
     ]
    }
   ],
   "source": [
    "# Paths\n",
    "OUTPUT_ROOT = \"./experiments\"\n",
    "DATA_ROOT   = \"./gan-getting-started\"\n",
    "REAL_MONET_DIR = \"./monet_jpgs_for_eval\"\n",
    "\n",
    "# Export Monet JPGs from TFRecords if needed\n",
    "MONET_FILENAMES = tf.io.gfile.glob(str(Path(DATA_ROOT) / \"monet_tfrec\" / \"*.tfrec\"))\n",
    "mf.ensure_monet_jpgs_from_tfrec(MONET_FILENAMES, REAL_MONET_DIR)\n",
    "\n",
    "# Evaluate MiFID per run\n",
    "run_dirs = sorted(p for p in Path(OUTPUT_ROOT).glob(\"seed_*\") if p.is_dir())\n",
    "rows = []\n",
    "for rd in run_dirs:\n",
    "    gen_dir = rd / \"generated_full\"\n",
    "    res = mf.compute_mifid(REAL_MONET_DIR, gen_dir, epsilon=0.10, batch=64)\n",
    "    rows.append({\"run\": rd.name, **res})\n",
    "\n",
    "# Sort by MiFID \n",
    "rows.sort(key=lambda r: r[\"MiFID\"])\n",
    "\n",
    "# Per-run table\n",
    "print(\"\\nMiFID results (sorted by MiFID):\")\n",
    "print(f\"{'run':<12} {'FID':>10} {'d':>10} {'d_thr':>10} {'MiFID':>12}\")\n",
    "for r in rows:\n",
    "    print(f\"{r['run']:<12} {r['FID']:>10.4f} {r['d']:>10.4f} {r['d_thr']:>10.4f} {r['MiFID']:>12.4f}\")\n",
    "\n",
    "# Summary across runs (mean & std)\n",
    "def mean_std(vals):\n",
    "    arr = np.asarray(vals, dtype=float)\n",
    "    n = arr.size\n",
    "    mean = float(arr.mean()) if n else float(\"nan\")\n",
    "    std  = float(arr.std(ddof=1)) if n > 1 else 0.0\n",
    "    return mean, std\n",
    "\n",
    "metrics = [\"FID\", \"MiFID\"]\n",
    "print(\"\\nSummary across runs:\")\n",
    "print(f\"{'metric':<8} {'mean':>12} {'std':>12}\")\n",
    "for m in metrics:\n",
    "    mean, std = mean_std([r[m] for r in rows])\n",
    "    print(f\"{m:<8} {mean:>12.4f} {std:>12.4f}\")"
   ]
  }
 ],
 "metadata": {
  "kernelspec": {
   "display_name": "Cygan",
   "language": "python",
   "name": "python3"
  },
  "language_info": {
   "codemirror_mode": {
    "name": "ipython",
    "version": 3
   },
   "file_extension": ".py",
   "mimetype": "text/x-python",
   "name": "python",
   "nbconvert_exporter": "python",
   "pygments_lexer": "ipython3",
   "version": "3.9.15"
  },
  "papermill": {
   "duration": 3295.767085,
   "end_time": "2020-08-29T09:21:52.609073",
   "environment_variables": {},
   "exception": null,
   "input_path": "__notebook__.ipynb",
   "output_path": "__notebook__.ipynb",
   "parameters": {},
   "start_time": "2020-08-29T08:26:56.841988",
   "version": "2.1.0"
  }
 },
 "nbformat": 4,
 "nbformat_minor": 4
}
